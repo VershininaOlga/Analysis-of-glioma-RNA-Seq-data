{
 "cells": [
  {
   "cell_type": "code",
   "execution_count": null,
   "id": "5732582b",
   "metadata": {},
   "outputs": [],
   "source": [
    "import pandas as pd\n",
    "import numpy as np\n",
    "import scipy.stats as scist\n",
    "\n",
    "import differential_expression_results_analysis as diffexpr\n",
    "import genes_correlation as gc\n",
    "import deconvolution_utils as deconv\n",
    "import predictive_model as predm\n",
    "import plot_pictures as pict"
   ]
  },
  {
   "cell_type": "markdown",
   "id": "60e9d346",
   "metadata": {},
   "source": [
    "#### I. RNA-Seq data analysis of the DCs (co-cultured with glioma GL261 cells) treated with either PS-PDT and MTX "
   ]
  },
  {
   "cell_type": "markdown",
   "id": "0df4dd80",
   "metadata": {},
   "source": [
    "*a) Prepare data, Normalization and Differential Expression Analysis* \n",
    "\n",
    "Input data files:\n",
    "- DC-DCPS-DCMTX-counts.csv\n",
    "- DC-DCPS-DCMTX-sample-attributes.csv\n",
    "- GCF_000001635.27_GRCm39_feature_table.txt\n",
    "\n",
    "R script (prepare_normalization_DESeq2.R) generates the following files: \n",
    "- DC-DCPS-DCMTX-counts-protein-coding-genes.csv\n",
    "- DC-DCPS-DCMTX-log2TPMnorm-data.csv\n",
    "- DESeq2res-DCPS-vs-DC.csv\n",
    "- DESeq2res-DCMTX-vs-DC.csv\n",
    "\n",
    "*instead \"path\" -> path to data folder with files*"
   ]
  },
  {
   "cell_type": "code",
   "execution_count": null,
   "id": "c21e1db6",
   "metadata": {},
   "outputs": [],
   "source": [
    "%%cmd\n",
    "\"C:\\Program Files\\R\\R-4.1.2\\bin\\Rscript.exe\" prepare_normalization_DESeq2.R \"path\" \"data\\DC-DCPS-DCMTX-counts.csv\" \"data\\DC-DCPS-DCMTX-sample-attributes.csv\" \"data\\GCF_000001635.27_GRCm39_feature_table.txt\" 1 \"\" \"\""
   ]
  },
  {
   "cell_type": "code",
   "execution_count": null,
   "id": "00e489d1",
   "metadata": {},
   "outputs": [],
   "source": [
    "DESeq2_results_psvsdc = pd.read_csv('data/DESeq2res-DCPS-vs-DC.csv', sep=';')\n",
    "DESeq2_results_mtxvsdc = pd.read_csv('data/DESeq2res-DCMTX-vs-DC.csv', sep=';')\n",
    "\n",
    "deg_ps = diffexpr.deg_identification(DESeq2_results_psvsdc, pval_thr=0.05, baseMean_thr=100)\n",
    "deg_ps_fc2 = diffexpr.deg_identification(DESeq2_results_psvsdc, pval_thr=0.05, baseMean_thr=100, log2FC_thr=1)\n",
    "deg_ps_fc2_up, deg_ps_fc2_down = diffexpr.up_down_deg(deg_ps_fc2)\n",
    "print(f'DEG (|FC|>2) for DCPS vs DC:\\n\\tall = {len(deg_ps_fc2)}, up = {len(deg_ps_fc2_up)}, down = {len(deg_ps_fc2_down)}')\n",
    "\n",
    "deg_mtx = diffexpr.deg_identification(DESeq2_results_mtxvsdc, pval_thr=0.05, baseMean_thr=100)\n",
    "deg_mtx_fc2 = diffexpr.deg_identification(DESeq2_results_mtxvsdc, pval_thr=0.05, baseMean_thr=100, log2FC_thr=1)\n",
    "deg_mtx_fc2_up, deg_mtx_fc2_down = diffexpr.up_down_deg(deg_mtx_fc2)\n",
    "print(f'DEG (|FC|>2) for DCMTX vs DC:\\n\\tall = {len(deg_mtx_fc2)}, up = {len(deg_mtx_fc2_up)}, down = {len(deg_mtx_fc2_down)}')\n",
    "\n",
    "common_genes = diffexpr.common_deg('DCPS', deg_ps, 'DCMTX', deg_mtx)\n",
    "common_genes_fc2 = diffexpr.common_deg('DCPS', deg_ps_fc2, 'DCMTX', deg_mtx_fc2)\n",
    "common_genes_fc2_up = diffexpr.common_deg('DCPS', deg_ps_fc2_up, 'DCMTX', deg_mtx_fc2_up)\n",
    "common_genes_fc2_down = diffexpr.common_deg('DCPS', deg_ps_fc2_down, 'DCMTX', deg_mtx_fc2_down)\n",
    "print(f'common DEG (|FC|>2) for DCPS and DCMTX:\\n\\tall = {len(common_genes_fc2)}, \\n\\tsimultaneously up = {len(common_genes_fc2_up)}, \\n\\tsimultaneously down = {len(common_genes_fc2_down)}, \\n\\tbehave differently = {len(common_genes_fc2)-len(common_genes_fc2_up)-len(common_genes_fc2_down)}')\n",
    "\n",
    "\n",
    "pict.plot_venn_diagram_deg(len(deg_mtx_fc2), len(deg_ps_fc2), len(common_genes_fc2), ['DC+MTX', 'DC+PS-PDT'], 'pictures/venn_diagram_for_deg_ps_mtx')\n",
    "\n",
    "ps_fc = diffexpr.get_fold_changes(common_genes['log2FoldChange_DCPS'].values)\n",
    "mtx_fc = diffexpr.get_fold_changes(common_genes['log2FoldChange_DCMTX'].values)\n",
    "\n",
    "pict.plot_hist_deg(ps_fc, mtx_fc, 'pictures/histogramm_for_deg_ps_mtx')"
   ]
  },
  {
   "cell_type": "markdown",
   "id": "6bb1fab1",
   "metadata": {},
   "source": [
    "*b) Correlation analysis of markers of DC maturation*"
   ]
  },
  {
   "cell_type": "code",
   "execution_count": null,
   "id": "40f98dbc",
   "metadata": {},
   "outputs": [],
   "source": [
    "marker_genes = pd.read_csv('data/61_marker_genes.csv')['gene_name'].values\n",
    "\n",
    "countsDataNorm = pd.read_csv('data/DC-DCPS-DCMTX-log2TPMnorm-data.csv', sep=';')\n",
    "countsDataNorm = countsDataNorm[countsDataNorm['gene_name'].isin(marker_genes)]\n",
    "countsDataNorm.reset_index(drop=True, inplace=True)\n",
    "\n",
    "countsDataNorm_ps = countsDataNorm[['gene_name', 'DC1_PS', 'DC2_PS', 'DC3_PS', 'DC4_PS']]\n",
    "corr_matrix_ps = gc.correlation(countsDataNorm_ps)\n",
    "corr_matrix_ps.to_csv('data/corr_PS_for_61_marker_genes.csv', sep=';')\n",
    "\n",
    "countsDataNorm_mtx = countsDataNorm[['gene_name', 'DC1_MTX', 'DC2_MTX', 'DC3_MTX', 'DC4_MTX']]\n",
    "corr_matrix_mtx = gc.correlation(countsDataNorm_mtx)\n",
    "corr_matrix_mtx.to_csv('data/corr_MTX_for_61_marker_genes.csv', sep=';')"
   ]
  },
  {
   "cell_type": "markdown",
   "id": "0f926567",
   "metadata": {},
   "source": [
    "*Plot heatmaps*\n",
    "\n",
    "*instead \"path\" -> path to data folder with files*"
   ]
  },
  {
   "cell_type": "code",
   "execution_count": null,
   "id": "09c4f65b",
   "metadata": {},
   "outputs": [],
   "source": [
    "%%cmd\n",
    "\"C:\\Program Files\\R\\R-4.1.2\\bin\\Rscript.exe\" plot_heatmaps_for_DCmarker_genes.R \"path\" \"data\\corr_PS_for_61_marker_genes.csv\" \"data\\corr_MTX_for_61_marker_genes.csv\""
   ]
  },
  {
   "cell_type": "markdown",
   "id": "782076cc",
   "metadata": {},
   "source": [
    "*c) Th17 cells*"
   ]
  },
  {
   "cell_type": "code",
   "execution_count": null,
   "id": "31d7aebc",
   "metadata": {},
   "outputs": [],
   "source": [
    "genes = ['Tgfb3', 'Il6', 'Il23a']\n",
    "countsDataNorm = pd.read_csv('data/DC-DCPS-DCMTX-log2TPMnorm-data.csv', sep=';')\n",
    "countsDataNorm = countsDataNorm[countsDataNorm['gene_name'].isin(genes)]\n",
    "countsDataNorm = countsDataNorm.T\n",
    "countsDataNorm.columns = countsDataNorm.iloc[0].values\n",
    "countsDataNorm.drop(['gene_name'], axis=0, inplace=True)\n",
    "countsDataNorm['Group'] = countsDataNorm.index\n",
    "countsDataNorm.reset_index(drop=True, inplace=True)\n",
    "\n",
    "DESeq2_results_psvsdc = pd.read_csv('data/DESeq2res-DCPS-vs-DC.csv', sep=';')\n",
    "DESeq2_results_mtxvsdc = pd.read_csv('data/DESeq2res-DCMTX-vs-DC.csv', sep=';')\n",
    "\n",
    "pict.plot_boxplots_th17cells(genes, countsDataNorm, DESeq2_results_psvsdc, DESeq2_results_mtxvsdc, 'pictures/Th17_genes')"
   ]
  },
  {
   "cell_type": "markdown",
   "id": "501aee33",
   "metadata": {},
   "source": [
    "#### II. RNA-Seq data analysis of the TCGA-LGG project"
   ]
  },
  {
   "cell_type": "markdown",
   "id": "f0caed70",
   "metadata": {},
   "source": [
    "*a) Prepare data, Normalization and Differential Expression Analysis* \n",
    "\n",
    "Input Data files:\n",
    "- TCGA-LGG-counts.csv\n",
    "- TCGA-LGG-sample-attributes.csv\n",
    "- GEO-42-controls-counts.csv\n",
    "- GEO-42-controls-sample-attributes\n",
    "- gencode.v36.annotation.gtf\n",
    "\n",
    "R script (prepare_normalization_DESeq2.R) generates the following files: \n",
    "- TCGA-LGG-counts-protein-coding-genes.csv\n",
    "- TCGA-LGG-log2TPMnorm-data.csv\n",
    "- DESeq2res-Dead-vs-Alive.csv\n",
    "- DESeq2res-Alive-vs-Control.csv\n",
    "- DESeq2res-Dead-vs-Control.csv\n",
    "\n",
    "*instead \"path\" -> path to data folder with files*"
   ]
  },
  {
   "cell_type": "code",
   "execution_count": null,
   "id": "509bc130",
   "metadata": {},
   "outputs": [],
   "source": [
    "%%cmd\n",
    "\"C:\\Program Files\\R\\R-4.1.2\\bin\\Rscript.exe\" batch_correction.R \"path\" \"GEO\" \"data\\GEO-42-controls-counts.csv\""
   ]
  },
  {
   "cell_type": "code",
   "execution_count": null,
   "id": "f8839933",
   "metadata": {},
   "outputs": [],
   "source": [
    "%%cmd\n",
    "\"C:\\Program Files\\R\\R-4.1.2\\bin\\Rscript.exe\" prepare_normalization_DESeq2.R \"path\" \"data\\TCGA-LGG-counts.csv\" \"data\\TCGA-LGG-sample-attributes.csv\" \"data\\gencode.v36.annotation.gtf\" 2 \"data\\GEO-42-controls-ComBatSeq-counts.csv\" \"data\\GEO-42-controls-sample-attributes.csv\""
   ]
  },
  {
   "cell_type": "markdown",
   "id": "4dcf500f",
   "metadata": {},
   "source": [
    "*b) Calculation of correlations for Th17 cells*"
   ]
  },
  {
   "cell_type": "code",
   "execution_count": null,
   "id": "9aec8fa5",
   "metadata": {},
   "outputs": [],
   "source": [
    "genes_for_tcells = {\n",
    "    'Th17': ['IL21', 'IL26', 'IL17A', 'IL17F', 'RORA', 'RORC', 'CCR6', 'IL23A', 'KLRB1', 'IL6', 'TNF', 'IL1B', 'CD5', 'CD6',\n",
    "             'CCL20', 'CXCR3', 'IL1R1', 'IL1R2', 'TNFRSF1A', 'TNFRSF1B', 'IL17RA', 'IL17RC', 'CCR2', 'IL8', 'LCN2', 'DEFB4A',\n",
    "             'CXCL1', 'CXCL2', 'CCL2', 'CCR1', 'CXCL5', 'CXCL6'] }\n",
    "\n",
    "data = pd.read_csv('data/TCGA-LGG-log2TPMnorm-data.csv', sep=';')\n",
    "\n",
    "corr_matrix = gc.correlation(data[data['gene_name'].isin(genes_for_tcells['Th17'])].reset_index(drop=True))\n",
    "corr_matrix.to_csv(f'data/TCGA-LGG-Th17-corr-matrix.csv', sep=';')"
   ]
  },
  {
   "cell_type": "markdown",
   "id": "7c1dd4ac",
   "metadata": {},
   "source": [
    "*Plot heatmaps*\n",
    "\n",
    "*instead \"path\" -> path to data folder with files*"
   ]
  },
  {
   "cell_type": "code",
   "execution_count": null,
   "id": "c55c50e6",
   "metadata": {},
   "outputs": [],
   "source": [
    "%%cmd\n",
    "\"C:\\Program Files\\R\\R-4.1.2\\bin\\Rscript.exe\" plot_heatmaps_for_tcells.R \"path\""
   ]
  },
  {
   "cell_type": "markdown",
   "id": "e73fd200",
   "metadata": {},
   "source": [
    "*c) Analysis of Th17 cells metagene*"
   ]
  },
  {
   "cell_type": "code",
   "execution_count": null,
   "id": "2f442ead",
   "metadata": {},
   "outputs": [],
   "source": [
    "cell_types = ['Th17']\n",
    "\n",
    "genes_for_metagene = {\n",
    "    'Th17': ['LCN2', 'DEFB4A', 'IL17A']\n",
    "}\n",
    "\n",
    "data = pd.read_csv('data/TCGA-LGG-log2TPMnorm-data.csv', sep=';')\n",
    "attributes = pd.read_csv('data/TCGA-LGG-sample-attributes.csv', sep=';')\n",
    "\n",
    "\n",
    "for ct in cell_types:\n",
    "    data_ct = data[data['gene_name'].isin(genes_for_metagene[ct])].reset_index(drop=True)\n",
    "    metagene_expr = pd.DataFrame({'metagene_expr': data_ct.mean(axis=0)})\n",
    "    metagene_expr['sample'] = metagene_expr.index\n",
    "    metagene_expr = metagene_expr.merge(attributes, left_on='sample', right_on='sample')\n",
    "    \n",
    "    metagene_expr_thr = np.percentile(metagene_expr['metagene_expr'].values, 75)\n",
    "    \n",
    "    metagene_expr_low = metagene_expr[metagene_expr['metagene_expr'] <= metagene_expr_thr]\n",
    "    metagene_expr_high = metagene_expr[metagene_expr['metagene_expr'] > metagene_expr_thr]\n",
    "    \n",
    "    pict.overall_surv_for_metagenes(metagene_expr_low, metagene_expr_high, ct, f'pictures/{ct}-metagene-OS')"
   ]
  },
  {
   "cell_type": "code",
   "execution_count": null,
   "id": "080eb709",
   "metadata": {},
   "outputs": [],
   "source": [
    "clinical = pd.read_csv('data/clinical.tsv', sep='\\t')\n",
    "no_pharma = clinical[(clinical['treatment_or_therapy'] == 'no') & (clinical['treatment_type'] == 'Pharmaceutical Therapy, NOS')]\n",
    "yes_pharma = clinical[(clinical['treatment_or_therapy'] == 'yes') & (clinical['treatment_type'] == 'Pharmaceutical Therapy, NOS')]\n",
    "no_radiation = clinical[(clinical['treatment_or_therapy'] == 'no') & (clinical['treatment_type'] == 'Radiation Therapy, NOS')]\n",
    "yes_radiation = clinical[(clinical['treatment_or_therapy'] == 'yes') & (clinical['treatment_type'] == 'Radiation Therapy, NOS')]\n",
    "\n",
    "no_treatment_or_therapy = list(set(no_pharma['case_submitter_id'].values) & set(no_radiation['case_submitter_id'].values))\n",
    "yes_pharma_no_radiation = list(set(yes_pharma['case_submitter_id'].values) & set(no_radiation['case_submitter_id'].values))\n",
    "no_pharma_yes_radiation = list(set(no_pharma['case_submitter_id'].values) & set(yes_radiation['case_submitter_id'].values))\n",
    "yes_pharma_yes_radiation = list(set(yes_pharma['case_submitter_id'].values) & set(yes_radiation['case_submitter_id'].values))\n",
    "yes_treatment_or_therapy = list(set(no_pharma_yes_radiation) | set(yes_pharma_no_radiation) | set(yes_pharma_yes_radiation))\n",
    "\n",
    "metagene_expr_no = metagene_expr[metagene_expr['sample'].isin(no_treatment_or_therapy)]['metagene_expr']\n",
    "metagene_expr_yes = metagene_expr[metagene_expr['sample'].isin(yes_treatment_or_therapy)]['metagene_expr']\n",
    "print(metagene_expr_no.median(), ' vs ', metagene_expr_yes.median())\n",
    "print(scist.mannwhitneyu(metagene_expr_no, metagene_expr_yes, alternative='less'))\n",
    "print(scist.mannwhitneyu(metagene_expr_yes, metagene_expr_no, alternative='greater'))\n"
   ]
  },
  {
   "cell_type": "markdown",
   "id": "ddabf2f5",
   "metadata": {},
   "source": [
    "*d) Identification of the gene signature associated with overall survival of glioma patients*"
   ]
  },
  {
   "cell_type": "code",
   "execution_count": null,
   "id": "d6f9f31a",
   "metadata": {},
   "outputs": [],
   "source": [
    "DSeq2_results_DvsA = pd.read_csv('data/DESeq2res-Dead-vs-Alive.csv', sep=';')\n",
    "DSeq2_results_AvsC = pd.read_csv('data/DESeq2res-Alive-vs-Control.csv', sep=';')\n",
    "DSeq2_results_DvsC = pd.read_csv('data/DESeq2res-Dead-vs-Control.csv', sep=';')\n",
    "DSeq2_results_psvsdc = pd.read_csv('data/DESeq2res-DCPS-vs-DC.csv', sep=';')\n",
    "DSeq2_results_mtxvsdc = pd.read_csv('data/DESeq2res-DCMTX-vs-DC.csv', sep=';')\n",
    "\n",
    "unidirectional_genes = predm.identification_genes_for_predictive_model(DSeq2_results_DvsA, DSeq2_results_AvsC, DSeq2_results_DvsC, \n",
    "                                                                       DSeq2_results_psvsdc, DSeq2_results_mtxvsdc)\n",
    "print(f'unidirectional_genes = {unidirectional_genes}')\n",
    "\n",
    "data = pd.read_csv('data/TCGA-LGG-log2TPMnorm-data.csv', sep=';')\n",
    "attributes = pd.read_csv('data/TCGA-LGG-sample-attributes.csv', sep=';')\n",
    "data = predm.take_genes_and_transposition(data, unidirectional_genes)\n",
    "data = data.merge(attributes, left_on='sample', right_on='sample')\n",
    "sign_genes = predm.univatiate(unidirectional_genes, data, attributes)\n",
    "print(f'sign_genes = {sign_genes}')\n",
    "concordance_index, coefs = predm.multivariate(sign_genes, data, attributes)\n",
    "print(f'concordance_index = {round(concordance_index, 2)}')\n",
    "print(coefs)\n",
    "\n",
    "pict.plot_log2fc_genes_from_predictive_model(sign_genes, DSeq2_results_AvsC, DSeq2_results_DvsC, \n",
    "                                             DSeq2_results_psvsdc, DSeq2_results_mtxvsdc, \n",
    "                                             'pictures/log2fc_genes_predictive_model')\n",
    "\n",
    "data['risk_score'] = predm.risk_score(data, coefs)\n",
    "data.to_csv('data/TCGA-LGG-risk-score-for-4-gene-model.csv', sep=';', index=False)\n",
    "rs_median = np.median(data['risk_score'].values)\n",
    "print('rs_median =', rs_median)\n",
    "data_low = data[data['risk_score'] <= rs_median]\n",
    "print('data_low.shape:', data_low.shape)\n",
    "data_high = data[data['risk_score'] > rs_median]\n",
    "print('data_high.shape:', data_high.shape)\n",
    "\n",
    "logrank_pval = predm.logrank_test_low_high(data_low, data_high)\n",
    "print('logrank_pval:', logrank_pval)\n",
    "\n",
    "pict.plot_risk_score_expr_level_for_genes_in_predictive_model(sign_genes, data_low, data_high, rs_median,\n",
    "                                                             'pictures/TCGA_LGG_genes_predictive_model_risk_score_zscore')"
   ]
  },
  {
   "cell_type": "markdown",
   "id": "177f8880",
   "metadata": {},
   "source": [
    "survivalROC Analysis\n",
    "\n",
    "*instead \"path\" -> path to data folder with files*"
   ]
  },
  {
   "cell_type": "code",
   "execution_count": null,
   "id": "9b7761d7",
   "metadata": {},
   "outputs": [],
   "source": [
    "%%cmd\n",
    "\"C:\\Program Files\\R\\R-4.1.2\\bin\\Rscript.exe\" survivalROC_analysis.R \"path\" \"TCGA-LGG\" \"data/TCGA-LGG-risk-score-for-4-gene-model.csv\""
   ]
  },
  {
   "cell_type": "code",
   "execution_count": null,
   "id": "2cd4cdb0",
   "metadata": {},
   "outputs": [],
   "source": [
    "roc_1y = pd.read_csv('data/TCGA-LGG-ROC-1-year.csv', sep=';')\n",
    "roc_3y = pd.read_csv('data/TCGA-LGG-ROC-3-year.csv', sep=';')\n",
    "roc_5y = pd.read_csv('data/TCGA-LGG-ROC-5-year.csv', sep=';')\n",
    "aucs = pd.read_csv('data/TCGA-LGG-AUC-1-3-5-years.csv', sep=';')\n",
    "\n",
    "pict.plot_surv_roc_curves_for_predictive_model(data_low, data_high, roc_1y, roc_3y, roc_5y, aucs, 'pictures/TCGA_LGG_surv_roc_curve_for_pred_model')"
   ]
  },
  {
   "cell_type": "markdown",
   "id": "774ffa52",
   "metadata": {},
   "source": [
    "*e) Cellular Deconvolution*\n",
    "\n",
    "*instead \"path\" -> path to data folder with files*"
   ]
  },
  {
   "cell_type": "code",
   "execution_count": null,
   "id": "c333389c",
   "metadata": {},
   "outputs": [],
   "source": [
    "%%cmd\n",
    "\"C:\\Program Files\\R\\R-4.1.2\\bin\\Rscript.exe\" cellular_deconvolution.R \"TCGA-LGG\" \"path\" \"data\\TCGA-LGG-log2TPMnorm-data.csv\""
   ]
  },
  {
   "cell_type": "code",
   "execution_count": null,
   "id": "9d773302",
   "metadata": {},
   "outputs": [],
   "source": [
    "deconv_res = pd.read_csv('data/TCGA-LGG-epic-deconvolution.csv', sep=';')\n",
    "deconv_res.rename(columns={'Bcells': 'B cells', 'CD4_Tcells': 'T cells CD4+', 'CD8_Tcells': 'T cells CD8+',\n",
    "                           'Endothelial': 'Endothelial cells', 'NKcells': 'NK cells', 'otherCells': 'Uncharacterized cells'}, inplace=True)\n",
    "\n",
    "data_ct = data.merge(deconv_res, left_on='sample', right_on='sample')\n",
    "\n",
    "for cells in deconv_res.columns[1:]:\n",
    "    pict.correlation_for_cells(data_ct, cells, f'pictures/correlation-for-{cells}')"
   ]
  },
  {
   "cell_type": "markdown",
   "id": "b22fa537",
   "metadata": {},
   "source": [
    "*f) Predictive Model Validation on CGGA-LGG dataset*\n",
    "\n",
    "*instead \"path\" -> path to data folder with files*"
   ]
  },
  {
   "cell_type": "code",
   "execution_count": null,
   "id": "7143d832",
   "metadata": {},
   "outputs": [],
   "source": [
    "%%cmd\n",
    "\"C:\\Program Files\\R\\R-4.1.2\\bin\\Rscript.exe\" prepare_additional_datasets.R \"path\" \"CGGA-LGG\" \"data/CGGA-LGG-batches-counts.csv\" \"data/gencodev36-protein-coding-gene-lengths.csv\""
   ]
  },
  {
   "cell_type": "code",
   "execution_count": null,
   "id": "5a78e1a8",
   "metadata": {},
   "outputs": [],
   "source": [
    "data = pd.read_csv('data/CGGA-LGG-log2TPMnorm-data.csv', sep=';')\n",
    "attributes = pd.read_csv('data/CGGA-LGG-sample-attributes.csv', sep=';')\n",
    "\n",
    "data = predm.take_genes_and_transposition(data, sign_genes)\n",
    "data = data.merge(attributes, left_on='sample', right_on='sample')\n",
    "data['risk_score'] = predm.risk_score(data, coefs)\n",
    "data.to_csv('data/CGGA-LGG-risk-score-for-4-gene-model.csv', sep=';', index=False)\n",
    "\n",
    "data_low = data[data['risk_score'] <= rs_median]\n",
    "print('data_low.shape:', data_low.shape)\n",
    "data_high = data[data['risk_score'] > rs_median]\n",
    "print('data_high.shape:', data_high.shape)\n",
    "\n",
    "logrank_pval = predm.logrank_test_low_high(data_low, data_high)\n",
    "print('logrank_pval:', logrank_pval)\n",
    "\n",
    "pict.plot_risk_score_expr_level_for_genes_in_predictive_model(sign_genes, data_low, data_high, rs_median,\n",
    "                                                             'pictures/CGGA_LGG_genes_predictive_model_risk_score_zscore')"
   ]
  },
  {
   "cell_type": "code",
   "execution_count": null,
   "id": "ea8a2de8",
   "metadata": {},
   "outputs": [],
   "source": [
    "%%cmd\n",
    "\"C:\\Program Files\\R\\R-4.1.2\\bin\\Rscript.exe\" survivalROC_analysis.R \"path\" \"CGGA-LGG\" \"data/CGGA-LGG-risk-score-for-4-gene-model.csv\""
   ]
  },
  {
   "cell_type": "code",
   "execution_count": null,
   "id": "cc18fb8b",
   "metadata": {},
   "outputs": [],
   "source": [
    "roc_1y = pd.read_csv('data/CGGA-LGG-ROC-1-year.csv', sep=';')\n",
    "roc_3y = pd.read_csv('data/CGGA-LGG-ROC-3-year.csv', sep=';')\n",
    "roc_5y = pd.read_csv('data/CGGA-LGG-ROC-5-year.csv', sep=';')\n",
    "aucs = pd.read_csv('data/CGGA-LGG-AUC-1-3-5-years.csv', sep=';')\n",
    "\n",
    "pict.plot_surv_roc_curves_for_predictive_model(data_low, data_high, roc_1y, roc_3y, roc_5y, aucs, 'pictures/CGGA_LGG_surv_roc_curve_for_pred_model')"
   ]
  },
  {
   "cell_type": "markdown",
   "id": "a7f428b7",
   "metadata": {},
   "source": [
    "*g) Model validation on glioblastoma data (TCGA-GBM, CGGA-GBM)*"
   ]
  },
  {
   "cell_type": "markdown",
   "id": "2e8a841e",
   "metadata": {},
   "source": [
    "TCGA-GBM"
   ]
  },
  {
   "cell_type": "code",
   "execution_count": null,
   "id": "6c12757a",
   "metadata": {},
   "outputs": [],
   "source": [
    "%%cmd\n",
    "\"C:\\Program Files\\R\\R-4.1.2\\bin\\Rscript.exe\" prepare_additional_datasets.R \"path\" \"TCGA-GBM\" \"data/TCGA-GBM-counts.csv\" \"data/gencodev36-protein-coding-gene-lengths.csv\""
   ]
  },
  {
   "cell_type": "code",
   "execution_count": null,
   "id": "8e745304",
   "metadata": {},
   "outputs": [],
   "source": [
    "data = pd.read_csv('data/TCGA-GBM-log2TPMnorm-data.csv', sep=';')\n",
    "attributes = pd.read_csv('data/TCGA-GBM-sample-attributes.csv', sep=';')\n",
    "\n",
    "data = predm.take_genes_and_transposition(data, sign_genes)\n",
    "data = data.merge(attributes, left_on='sample', right_on='sample')\n",
    "data['risk_score'] = predm.risk_score(data, coefs)\n",
    "data.to_csv('data/TCGA-GBM-risk-score-for-4-gene-model.csv', sep=';', index=False)\n",
    "\n",
    "data_low = data[data['risk_score'] <= rs_median]\n",
    "print('data_low.shape:', data_low.shape)\n",
    "data_high = data[data['risk_score'] > rs_median]\n",
    "print('data_high.shape:', data_high.shape)"
   ]
  },
  {
   "cell_type": "code",
   "execution_count": null,
   "id": "2d44d8ac",
   "metadata": {},
   "outputs": [],
   "source": [
    "%%cmd\n",
    "\"C:\\Program Files\\R\\R-4.1.2\\bin\\Rscript.exe\" survivalROC_analysis.R \"path\" \"TCGA-GBM\" \"data/TCGA-GBM-risk-score-for-4-gene-model.csv\""
   ]
  },
  {
   "cell_type": "code",
   "execution_count": null,
   "id": "7dabb822",
   "metadata": {},
   "outputs": [],
   "source": [
    "roc_1y = pd.read_csv('data/TCGA-GBM-ROC-1-year.csv', sep=';')\n",
    "roc_3y = pd.read_csv('data/TCGA-GBM-ROC-3-year.csv', sep=';')\n",
    "roc_5y = pd.read_csv('data/TCGA-GBM-ROC-5-year.csv', sep=';')\n",
    "aucs = pd.read_csv('data/TCGA-GBM-AUC-1-3-5-years.csv', sep=';')\n",
    "\n",
    "pict.plot_surv_roc_curves_for_predictive_model(data_low, data_high, roc_1y, roc_3y, roc_5y, aucs, 'pictures/TCGA-GBM_surv_roc_curve_for_pred_model')"
   ]
  },
  {
   "cell_type": "markdown",
   "id": "aa4d055d",
   "metadata": {},
   "source": [
    "CGGA-GBM"
   ]
  },
  {
   "cell_type": "code",
   "execution_count": null,
   "id": "e69dfe16",
   "metadata": {},
   "outputs": [],
   "source": [
    "%%cmd\n",
    "\"C:\\Program Files\\R\\R-4.1.2\\bin\\Rscript.exe\" prepare_additional_datasets.R \"path\" \"CGGA-GBM\" \"data/CGGA-GBM-batches-counts.csv\" \"data/gencodev36-protein-coding-gene-lengths.csv\""
   ]
  },
  {
   "cell_type": "code",
   "execution_count": null,
   "id": "b141aeb0",
   "metadata": {},
   "outputs": [],
   "source": [
    "data = pd.read_csv('data/CGGA-GBM-log2TPMnorm-data.csv', sep=';')\n",
    "attributes = pd.read_csv('data/CGGA-GBM-sample-attributes.csv', sep=';')\n",
    "\n",
    "data = predm.take_genes_and_transposition(data, sign_genes)\n",
    "data = data.merge(attributes, left_on='sample', right_on='sample')\n",
    "data['risk_score'] = predm.risk_score(data, coefs)\n",
    "data.to_csv('data/CGGA-GBM-risk-score-for-4-gene-model.csv', sep=';', index=False)\n",
    "\n",
    "data_low = data[data['risk_score'] <= rs_median]\n",
    "print('data_low.shape:', data_low.shape)\n",
    "data_high = data[data['risk_score'] > rs_median]\n",
    "print('data_high.shape:', data_high.shape)\n",
    "\n",
    "logrank_pval = predm.logrank_test_low_high(data_low, data_high)\n",
    "print('logrank_pval:', logrank_pval)\n",
    "\n",
    "pict.plot_risk_score_expr_level_for_genes_in_predictive_model(sign_genes, data_low, data_high, rs_median,\n",
    "                                                             'pictures/CGGA_GBM_genes_predictive_model_risk_score_zscore')"
   ]
  },
  {
   "cell_type": "code",
   "execution_count": null,
   "id": "3188e8a8",
   "metadata": {},
   "outputs": [],
   "source": [
    "%%cmd\n",
    "\"C:\\Program Files\\R\\R-4.1.2\\bin\\Rscript.exe\" survivalROC_analysis.R \"path\" \"CGGA-GBM\" \"data/CGGA-GBM-risk-score-for-4-gene-model.csv\""
   ]
  },
  {
   "cell_type": "code",
   "execution_count": null,
   "id": "9c7eb98d",
   "metadata": {},
   "outputs": [],
   "source": [
    "roc_1y = pd.read_csv('data/CGGA-GBM-ROC-1-year.csv', sep=';')\n",
    "roc_3y = pd.read_csv('data/CGGA-GBM-ROC-3-year.csv', sep=';')\n",
    "roc_5y = pd.read_csv('data/CGGA-GBM-ROC-5-year.csv', sep=';')\n",
    "aucs = pd.read_csv('data/CGGA-GBM-AUC-1-3-5-years.csv', sep=';')\n",
    "\n",
    "pict.plot_surv_roc_curves_for_predictive_model(data_low, data_high, roc_1y, roc_3y, roc_5y, aucs, 'pictures/CGGA_GBM_surv_roc_curve_for_pred_model')"
   ]
  },
  {
   "cell_type": "code",
   "execution_count": null,
   "id": "11ba7ee4",
   "metadata": {},
   "outputs": [],
   "source": []
  }
 ],
 "metadata": {
  "kernelspec": {
   "display_name": "Python 3 (ipykernel)",
   "language": "python",
   "name": "python3"
  },
  "language_info": {
   "codemirror_mode": {
    "name": "ipython",
    "version": 3
   },
   "file_extension": ".py",
   "mimetype": "text/x-python",
   "name": "python",
   "nbconvert_exporter": "python",
   "pygments_lexer": "ipython3",
   "version": "3.9.13"
  }
 },
 "nbformat": 4,
 "nbformat_minor": 5
}
